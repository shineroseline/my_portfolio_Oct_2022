{
 "cells": [
  {
   "cell_type": "code",
   "execution_count": 1,
   "id": "01dd2547",
   "metadata": {},
   "outputs": [],
   "source": [
    "import numpy as np\n",
    "import pandas as pd\n",
    "\n",
    "import matplotlib\n",
    "import matplotlib.pyplot as plt\n",
    "from pandas.plotting import scatter_matrix\n",
    "\n",
    "import seaborn as sb\n",
    "sb.set(style='white', color_codes=True)\n",
    "sb.set(font_scale=1.5)\n",
    "\n",
    "from sklearn.linear_model import LogisticRegression\n",
    "from sklearn.model_selection import train_test_split\n",
    "\n",
    "from sklearn.metrics import confusion_matrix\n",
    "from sklearn.metrics import classification_report\n",
    "from sklearn.metrics import accuracy_score\n",
    "from sklearn.metrics import precision_score\n",
    "from sklearn.metrics import recall_score\n",
    "from sklearn.metrics import f1_score\n",
    "from sklearn import metrics\n",
    "\n",
    "import warnings\n",
    "warnings.filterwarnings('ignore')"
   ]
  },
  {
   "cell_type": "code",
   "execution_count": 2,
   "id": "e2c8c809",
   "metadata": {},
   "outputs": [],
   "source": [
    "data=pd.read_csv('C:\\\\Users\\\\hp\\\\Documents\\\\DATA SCIENCE\\\\data_sets\\\\Titanic-Dataset.csv')"
   ]
  },
  {
   "cell_type": "code",
   "execution_count": 3,
   "id": "639cd3d0",
   "metadata": {},
   "outputs": [
    {
     "data": {
      "text/plain": [
       "PassengerId      0\n",
       "Survived         0\n",
       "Pclass           0\n",
       "Name             0\n",
       "Sex              0\n",
       "Age            177\n",
       "SibSp            0\n",
       "Parch            0\n",
       "Ticket           0\n",
       "Fare             0\n",
       "Cabin          687\n",
       "Embarked         2\n",
       "dtype: int64"
      ]
     },
     "execution_count": 3,
     "metadata": {},
     "output_type": "execute_result"
    }
   ],
   "source": [
    "data.isna().sum()"
   ]
  },
  {
   "cell_type": "code",
   "execution_count": 4,
   "id": "8e38da58",
   "metadata": {},
   "outputs": [],
   "source": [
    "data.drop(['PassengerId','Name','Cabin','Ticket', 'Fare'], axis=1,inplace=True)"
   ]
  },
  {
   "cell_type": "code",
   "execution_count": 5,
   "id": "6606b402",
   "metadata": {},
   "outputs": [
    {
     "data": {
      "text/plain": [
       "(891, 7)"
      ]
     },
     "execution_count": 5,
     "metadata": {},
     "output_type": "execute_result"
    }
   ],
   "source": [
    "data.shape"
   ]
  },
  {
   "cell_type": "code",
   "execution_count": 6,
   "id": "6853be24",
   "metadata": {},
   "outputs": [
    {
     "data": {
      "text/plain": [
       "Survived      0\n",
       "Pclass        0\n",
       "Sex           0\n",
       "Age         177\n",
       "SibSp         0\n",
       "Parch         0\n",
       "Embarked      2\n",
       "dtype: int64"
      ]
     },
     "execution_count": 6,
     "metadata": {},
     "output_type": "execute_result"
    }
   ],
   "source": [
    "data.isnull().sum()"
   ]
  },
  {
   "cell_type": "code",
   "execution_count": 7,
   "id": "7ea371df",
   "metadata": {},
   "outputs": [],
   "source": [
    "def impute_age(cols):\n",
    "    Age = cols[0]\n",
    "    Pclass = cols[1]\n",
    "\n",
    "    if pd.isnull(Age):\n",
    "        if Pclass == 1:\n",
    "            return 37\n",
    "        elif Pclass == 2:\n",
    "            return 29\n",
    "        else:\n",
    "            return 24\n",
    "    else:\n",
    "        return Age\n",
    "\n",
    "data['Age'] = data[['Age','Pclass']].apply(impute_age,axis=1)"
   ]
  },
  {
   "cell_type": "code",
   "execution_count": 8,
   "id": "b8619329",
   "metadata": {},
   "outputs": [
    {
     "data": {
      "text/plain": [
       "Survived    0\n",
       "Pclass      0\n",
       "Sex         0\n",
       "Age         0\n",
       "SibSp       0\n",
       "Parch       0\n",
       "Embarked    2\n",
       "dtype: int64"
      ]
     },
     "execution_count": 8,
     "metadata": {},
     "output_type": "execute_result"
    }
   ],
   "source": [
    "data.isnull().sum()"
   ]
  },
  {
   "cell_type": "code",
   "execution_count": 9,
   "id": "41901e10",
   "metadata": {},
   "outputs": [],
   "source": [
    "#we drop the rows with the remaining 2 missing values\n",
    "data.dropna(inplace=True)"
   ]
  },
  {
   "cell_type": "code",
   "execution_count": 10,
   "id": "071aede4",
   "metadata": {},
   "outputs": [
    {
     "data": {
      "text/plain": [
       "Survived    0\n",
       "Pclass      0\n",
       "Sex         0\n",
       "Age         0\n",
       "SibSp       0\n",
       "Parch       0\n",
       "Embarked    0\n",
       "dtype: int64"
      ]
     },
     "execution_count": 10,
     "metadata": {},
     "output_type": "execute_result"
    }
   ],
   "source": [
    "data.isnull().sum()"
   ]
  },
  {
   "cell_type": "code",
   "execution_count": 11,
   "id": "04977c53",
   "metadata": {},
   "outputs": [
    {
     "data": {
      "text/plain": [
       "Survived      int64\n",
       "Pclass        int64\n",
       "Sex          object\n",
       "Age         float64\n",
       "SibSp         int64\n",
       "Parch         int64\n",
       "Embarked     object\n",
       "dtype: object"
      ]
     },
     "execution_count": 11,
     "metadata": {},
     "output_type": "execute_result"
    }
   ],
   "source": [
    "data.dtypes"
   ]
  },
  {
   "cell_type": "code",
   "execution_count": 12,
   "id": "8b4350d1",
   "metadata": {},
   "outputs": [],
   "source": [
    "#we get the dummy of the categorical variables\n",
    "data_dummy=pd.get_dummies(data, columns=['Sex', 'Embarked'])"
   ]
  },
  {
   "cell_type": "code",
   "execution_count": 13,
   "id": "49919126",
   "metadata": {},
   "outputs": [
    {
     "data": {
      "text/html": [
       "<div>\n",
       "<style scoped>\n",
       "    .dataframe tbody tr th:only-of-type {\n",
       "        vertical-align: middle;\n",
       "    }\n",
       "\n",
       "    .dataframe tbody tr th {\n",
       "        vertical-align: top;\n",
       "    }\n",
       "\n",
       "    .dataframe thead th {\n",
       "        text-align: right;\n",
       "    }\n",
       "</style>\n",
       "<table border=\"1\" class=\"dataframe\">\n",
       "  <thead>\n",
       "    <tr style=\"text-align: right;\">\n",
       "      <th></th>\n",
       "      <th>Survived</th>\n",
       "      <th>Pclass</th>\n",
       "      <th>Age</th>\n",
       "      <th>SibSp</th>\n",
       "      <th>Parch</th>\n",
       "      <th>Sex_female</th>\n",
       "      <th>Sex_male</th>\n",
       "      <th>Embarked_C</th>\n",
       "      <th>Embarked_Q</th>\n",
       "      <th>Embarked_S</th>\n",
       "    </tr>\n",
       "  </thead>\n",
       "  <tbody>\n",
       "    <tr>\n",
       "      <th>0</th>\n",
       "      <td>0</td>\n",
       "      <td>3</td>\n",
       "      <td>22.0</td>\n",
       "      <td>1</td>\n",
       "      <td>0</td>\n",
       "      <td>0</td>\n",
       "      <td>1</td>\n",
       "      <td>0</td>\n",
       "      <td>0</td>\n",
       "      <td>1</td>\n",
       "    </tr>\n",
       "    <tr>\n",
       "      <th>1</th>\n",
       "      <td>1</td>\n",
       "      <td>1</td>\n",
       "      <td>38.0</td>\n",
       "      <td>1</td>\n",
       "      <td>0</td>\n",
       "      <td>1</td>\n",
       "      <td>0</td>\n",
       "      <td>1</td>\n",
       "      <td>0</td>\n",
       "      <td>0</td>\n",
       "    </tr>\n",
       "  </tbody>\n",
       "</table>\n",
       "</div>"
      ],
      "text/plain": [
       "   Survived  Pclass   Age  SibSp  Parch  Sex_female  Sex_male  Embarked_C  \\\n",
       "0         0       3  22.0      1      0           0         1           0   \n",
       "1         1       1  38.0      1      0           1         0           1   \n",
       "\n",
       "   Embarked_Q  Embarked_S  \n",
       "0           0           1  \n",
       "1           0           0  "
      ]
     },
     "execution_count": 13,
     "metadata": {},
     "output_type": "execute_result"
    }
   ],
   "source": [
    "data_dummy.head(2)"
   ]
  },
  {
   "cell_type": "code",
   "execution_count": 15,
   "id": "aecfc5b2",
   "metadata": {},
   "outputs": [
    {
     "data": {
      "text/plain": [
       "<AxesSubplot:>"
      ]
     },
     "execution_count": 15,
     "metadata": {},
     "output_type": "execute_result"
    },
    {
     "data": {
      "image/png": "[encoded data removed]",
      "text/plain": [
       "<Figure size 432x288 with 2 Axes>"
      ]
     },
     "metadata": {},
     "output_type": "display_data"
    }
   ],
   "source": [
    "#find out if the variables are correlated using the heat map\n",
    "plt.figure(figsize=(6,4))\n",
    "sb.heatmap(data_dummy.corr())"
   ]
  },
  {
   "cell_type": "code",
   "execution_count": 18,
   "id": "b5a4deb9",
   "metadata": {},
   "outputs": [],
   "source": [
    "features=['Pclass','Age','SibSp','Parch','Sex_female','Sex_male','Embarked_C','Embarked_Q','Embarked_S']\n",
    "x=data_dummy[features]"
   ]
  },
  {
   "cell_type": "code",
   "execution_count": 19,
   "id": "b8a5d7e6",
   "metadata": {},
   "outputs": [
    {
     "data": {
      "text/plain": [
       "(889, 9)"
      ]
     },
     "execution_count": 19,
     "metadata": {},
     "output_type": "execute_result"
    }
   ],
   "source": [
    "x.shape"
   ]
  },
  {
   "cell_type": "code",
   "execution_count": 20,
   "id": "5d52f6bd",
   "metadata": {},
   "outputs": [],
   "source": [
    "y=data_dummy.Survived"
   ]
  },
  {
   "cell_type": "code",
   "execution_count": 21,
   "id": "cfa5762d",
   "metadata": {},
   "outputs": [
    {
     "data": {
      "text/plain": [
       "(889,)"
      ]
     },
     "execution_count": 21,
     "metadata": {},
     "output_type": "execute_result"
    }
   ],
   "source": [
    "y.shape"
   ]
  },
  {
   "cell_type": "code",
   "execution_count": 22,
   "id": "ae0bfa11",
   "metadata": {},
   "outputs": [],
   "source": [
    "#we create the train_test_split\n",
    "xtrain,xtest,ytrain,ytest=train_test_split(x,y,test_size=0.3, random_state=1)"
   ]
  },
  {
   "cell_type": "code",
   "execution_count": 23,
   "id": "32557331",
   "metadata": {},
   "outputs": [],
   "source": [
    "logreg=LogisticRegression()"
   ]
  },
  {
   "cell_type": "code",
   "execution_count": 24,
   "id": "70ebb1dc",
   "metadata": {},
   "outputs": [
    {
     "data": {
      "text/plain": [
       "LogisticRegression()"
      ]
     },
     "execution_count": 24,
     "metadata": {},
     "output_type": "execute_result"
    }
   ],
   "source": [
    "logreg.fit(xtrain,ytrain)"
   ]
  },
  {
   "cell_type": "code",
   "execution_count": 25,
   "id": "1c87d23d",
   "metadata": {},
   "outputs": [],
   "source": [
    "prediction=logreg.predict(xtest)"
   ]
  },
  {
   "cell_type": "code",
   "execution_count": 26,
   "id": "9a5e937c",
   "metadata": {},
   "outputs": [
    {
     "data": {
      "text/plain": [
       "array([1, 1, 0, 1, 0, 1, 1, 0, 0, 1, 0, 1, 0, 1, 0, 1, 0, 1, 1, 1, 0, 0,\n",
       "       0, 0, 0, 0, 1, 0, 0, 1, 1, 1, 1, 1, 0, 1, 0, 0, 1, 0, 1, 0, 1, 0,\n",
       "       0, 1, 1, 0, 1, 0, 0, 1, 0, 1, 0, 1, 0, 0, 0, 0, 0, 0, 0, 0, 1, 1,\n",
       "       0, 0, 0, 1, 0, 1, 0, 0, 1, 1, 0, 0, 0, 0, 0, 0, 1, 1, 0, 0, 1, 1,\n",
       "       0, 1, 0, 1, 0, 0, 1, 0, 1, 1, 1, 1, 0, 1, 0, 0, 0, 0, 1, 0, 0, 0,\n",
       "       0, 0, 0, 1, 1, 1, 0, 1, 1, 0, 0, 1, 1, 0, 1, 0, 1, 0, 0, 0, 1, 0,\n",
       "       0, 0, 1, 1, 0, 0, 0, 0, 0, 1, 0, 1, 0, 0, 1, 1, 1, 0, 0, 0, 1, 0,\n",
       "       1, 1, 0, 1, 0, 0, 0, 0, 0, 0, 0, 0, 1, 1, 0, 1, 0, 0, 0, 0, 0, 1,\n",
       "       0, 0, 0, 0, 0, 0, 0, 0, 1, 0, 1, 0, 1, 0, 0, 0, 0, 0, 0, 0, 0, 1,\n",
       "       0, 1, 0, 1, 0, 0, 1, 0, 0, 1, 0, 1, 0, 0, 0, 0, 1, 1, 0, 1, 0, 0,\n",
       "       0, 1, 0, 1, 1, 0, 0, 0, 0, 0, 1, 1, 1, 0, 0, 0, 0, 0, 1, 0, 1, 0,\n",
       "       0, 0, 0, 1, 1, 0, 0, 0, 1, 1, 1, 0, 1, 1, 0, 0, 1, 0, 1, 0, 0, 0,\n",
       "       1, 0, 0], dtype=int64)"
      ]
     },
     "execution_count": 26,
     "metadata": {},
     "output_type": "execute_result"
    }
   ],
   "source": [
    "prediction"
   ]
  },
  {
   "cell_type": "code",
   "execution_count": 27,
   "id": "2cb2013a",
   "metadata": {},
   "outputs": [
    {
     "data": {
      "text/plain": [
       "array([[-1.04314192, -0.03993457, -0.24324446, -0.04008103,  1.19387943,\n",
       "        -1.19533661,  0.34944138, -0.03635018, -0.31454837]])"
      ]
     },
     "execution_count": 27,
     "metadata": {},
     "output_type": "execute_result"
    }
   ],
   "source": [
    "logreg.coef_"
   ]
  },
  {
   "cell_type": "code",
   "execution_count": 28,
   "id": "e3040f4c",
   "metadata": {},
   "outputs": [
    {
     "data": {
      "text/plain": [
       "array([3.66253934])"
      ]
     },
     "execution_count": 28,
     "metadata": {},
     "output_type": "execute_result"
    }
   ],
   "source": [
    "logreg.intercept_"
   ]
  },
  {
   "cell_type": "code",
   "execution_count": 29,
   "id": "3c4a842d",
   "metadata": {},
   "outputs": [
    {
     "data": {
      "text/plain": [
       "array([[143,  23],\n",
       "       [ 22,  79]], dtype=int64)"
      ]
     },
     "execution_count": 29,
     "metadata": {},
     "output_type": "execute_result"
    }
   ],
   "source": [
    "#compute the confusion matrix to evaluate the accuracy of classification\n",
    "metrics.confusion_matrix(ytest,prediction)"
   ]
  },
  {
   "cell_type": "code",
   "execution_count": 30,
   "id": "78094bc5",
   "metadata": {},
   "outputs": [
    {
     "data": {
      "text/plain": [
       "0.8314606741573034"
      ]
     },
     "execution_count": 30,
     "metadata": {},
     "output_type": "execute_result"
    }
   ],
   "source": [
    "metrics.accuracy_score(ytest,prediction)   #the prediction is accurate at 83%"
   ]
  },
  {
   "cell_type": "code",
   "execution_count": 31,
   "id": "a3975c68",
   "metadata": {},
   "outputs": [
    {
     "data": {
      "text/plain": [
       "267"
      ]
     },
     "execution_count": 31,
     "metadata": {},
     "output_type": "execute_result"
    }
   ],
   "source": [
    "len(xtest)"
   ]
  },
  {
   "cell_type": "code",
   "execution_count": 32,
   "id": "afb6e948",
   "metadata": {},
   "outputs": [
    {
     "name": "stdout",
     "output_type": "stream",
     "text": [
      "              precision    recall  f1-score   support\n",
      "\n",
      "           0       0.87      0.86      0.86       166\n",
      "           1       0.77      0.78      0.78       101\n",
      "\n",
      "    accuracy                           0.83       267\n",
      "   macro avg       0.82      0.82      0.82       267\n",
      "weighted avg       0.83      0.83      0.83       267\n",
      "\n"
     ]
    }
   ],
   "source": [
    "print(classification_report(ytest,prediction))"
   ]
  },
  {
   "cell_type": "code",
   "execution_count": 33,
   "id": "dc35d36b",
   "metadata": {},
   "outputs": [
    {
     "data": {
      "text/plain": [
       "array([[0.26542844, 0.73457156],\n",
       "       [0.39680939, 0.60319061],\n",
       "       [0.94753068, 0.05246932],\n",
       "       [0.25890075, 0.74109925],\n",
       "       [0.94439334, 0.05560666],\n",
       "       [0.1349627 , 0.8650373 ],\n",
       "       [0.33322773, 0.66677227],\n",
       "       [0.51998322, 0.48001678],\n",
       "       [0.78159657, 0.21840343],\n",
       "       [0.40753961, 0.59246039],\n",
       "       [0.74018959, 0.25981041],\n",
       "       [0.21122934, 0.78877066],\n",
       "       [0.74870771, 0.25129229],\n",
       "       [0.1456321 , 0.8543679 ],\n",
       "       [0.86475191, 0.13524809],\n",
       "       [0.36961142, 0.63038858],\n",
       "       [0.89376644, 0.10623356],\n",
       "       [0.29771474, 0.70228526],\n",
       "       [0.1762542 , 0.8237458 ],\n",
       "       [0.39841112, 0.60158888],\n",
       "       [0.90505325, 0.09494675],\n",
       "       [0.55279381, 0.44720619],\n",
       "       [0.86461079, 0.13538921],\n",
       "       [0.93775649, 0.06224351],\n",
       "       [0.51586664, 0.48413336],\n",
       "       [0.51627783, 0.48372217],\n",
       "       [0.03900465, 0.96099535],\n",
       "       [0.86935484, 0.13064516],\n",
       "       [0.89829714, 0.10170286],\n",
       "       [0.32470924, 0.67529076],\n",
       "       [0.38840658, 0.61159342],\n",
       "       [0.40714213, 0.59285787],\n",
       "       [0.15487977, 0.84512023],\n",
       "       [0.41415239, 0.58584761],\n",
       "       [0.5909917 , 0.4090083 ],\n",
       "       [0.16562446, 0.83437554],\n",
       "       [0.65729109, 0.34270891],\n",
       "       [0.87382398, 0.12617602],\n",
       "       [0.24343061, 0.75656939],\n",
       "       [0.5752348 , 0.4247652 ],\n",
       "       [0.43682709, 0.56317291],\n",
       "       [0.9116009 , 0.0883991 ],\n",
       "       [0.31540032, 0.68459968],\n",
       "       [0.87382398, 0.12617602],\n",
       "       [0.79680287, 0.20319713],\n",
       "       [0.23546952, 0.76453048],\n",
       "       [0.17053091, 0.82946909],\n",
       "       [0.81623996, 0.18376004],\n",
       "       [0.06065552, 0.93934448],\n",
       "       [0.9237402 , 0.0762598 ],\n",
       "       [0.87382398, 0.12617602],\n",
       "       [0.42655439, 0.57344561],\n",
       "       [0.88402479, 0.11597521],\n",
       "       [0.09106571, 0.90893429],\n",
       "       [0.74870771, 0.25129229],\n",
       "       [0.07043104, 0.92956896],\n",
       "       [0.77755425, 0.22244575],\n",
       "       [0.95156425, 0.04843575],\n",
       "       [0.70101262, 0.29898738],\n",
       "       [0.93732194, 0.06267806],\n",
       "       [0.8155124 , 0.1844876 ],\n",
       "       [0.86001292, 0.13998708],\n",
       "       [0.5909917 , 0.4090083 ],\n",
       "       [0.87382398, 0.12617602],\n",
       "       [0.42655439, 0.57344561],\n",
       "       [0.23615132, 0.76384868],\n",
       "       [0.87382398, 0.12617602],\n",
       "       [0.91169805, 0.08830195],\n",
       "       [0.84483869, 0.15516131],\n",
       "       [0.05418571, 0.94581429],\n",
       "       [0.86411165, 0.13588835],\n",
       "       [0.05626916, 0.94373084],\n",
       "       [0.65365164, 0.34634836],\n",
       "       [0.86001292, 0.13998708],\n",
       "       [0.3146789 , 0.6853211 ],\n",
       "       [0.1349627 , 0.8650373 ],\n",
       "       [0.83983525, 0.16016475],\n",
       "       [0.92399602, 0.07600398],\n",
       "       [0.82556801, 0.17443199],\n",
       "       [0.83353371, 0.16646629],\n",
       "       [0.83983525, 0.16016475],\n",
       "       [0.86475191, 0.13524809],\n",
       "       [0.03900465, 0.96099535],\n",
       "       [0.05966776, 0.94033224],\n",
       "       [0.76343429, 0.23656571],\n",
       "       [0.61960458, 0.38039542],\n",
       "       [0.43887617, 0.56112383],\n",
       "       [0.42659021, 0.57340979],\n",
       "       [0.87382398, 0.12617602],\n",
       "       [0.36961142, 0.63038858],\n",
       "       [0.89796438, 0.10203562],\n",
       "       [0.32470924, 0.67529076],\n",
       "       [0.93448156, 0.06551844],\n",
       "       [0.78095002, 0.21904998],\n",
       "       [0.24638156, 0.75361844],\n",
       "       [0.83949197, 0.16050803],\n",
       "       [0.22921098, 0.77078902],\n",
       "       [0.27476352, 0.72523648],\n",
       "       [0.24638156, 0.75361844],\n",
       "       [0.21458874, 0.78541126],\n",
       "       [0.85011817, 0.14988183],\n",
       "       [0.34219193, 0.65780807],\n",
       "       [0.60533439, 0.39466561],\n",
       "       [0.8551357 , 0.1448643 ],\n",
       "       [0.8551357 , 0.1448643 ],\n",
       "       [0.9063085 , 0.0936915 ],\n",
       "       [0.13628279, 0.86371721],\n",
       "       [0.85011817, 0.14988183],\n",
       "       [0.76698101, 0.23301899],\n",
       "       [0.81623996, 0.18376004],\n",
       "       [0.63908072, 0.36091928],\n",
       "       [0.74870771, 0.25129229],\n",
       "       [0.78095002, 0.21904998],\n",
       "       [0.18581805, 0.81418195],\n",
       "       [0.36011192, 0.63988808],\n",
       "       [0.08584033, 0.91415967],\n",
       "       [0.91600945, 0.08399055],\n",
       "       [0.40753961, 0.59246039],\n",
       "       [0.06385597, 0.93614403],\n",
       "       [0.79106209, 0.20893791],\n",
       "       [0.87816165, 0.12183835],\n",
       "       [0.20583905, 0.79416095],\n",
       "       [0.32470924, 0.67529076],\n",
       "       [0.50216384, 0.49783616],\n",
       "       [0.20776041, 0.79223959],\n",
       "       [0.8923436 , 0.1076564 ],\n",
       "       [0.44255342, 0.55744658],\n",
       "       [0.90995539, 0.09004461],\n",
       "       [0.88237029, 0.11762971],\n",
       "       [0.57830019, 0.42169981],\n",
       "       [0.44750156, 0.55249844],\n",
       "       [0.60533439, 0.39466561],\n",
       "       [0.87859714, 0.12140286],\n",
       "       [0.5909917 , 0.4090083 ],\n",
       "       [0.36961142, 0.63038858],\n",
       "       [0.07065991, 0.92934009],\n",
       "       [0.86001292, 0.13998708],\n",
       "       [0.92650619, 0.07349381],\n",
       "       [0.87382398, 0.12617602],\n",
       "       [0.89041033, 0.10958967],\n",
       "       [0.85942883, 0.14057117],\n",
       "       [0.31546378, 0.68453622],\n",
       "       [0.9237402 , 0.0762598 ],\n",
       "       [0.3892709 , 0.6107291 ],\n",
       "       [0.5909917 , 0.4090083 ],\n",
       "       [0.69227092, 0.30772908],\n",
       "       [0.17947426, 0.82052574],\n",
       "       [0.106604  , 0.893396  ],\n",
       "       [0.07867918, 0.92132082],\n",
       "       [0.9295162 , 0.0704838 ],\n",
       "       [0.85711123, 0.14288877],\n",
       "       [0.93666916, 0.06333084],\n",
       "       [0.14208269, 0.85791731],\n",
       "       [0.85011817, 0.14988183],\n",
       "       [0.37857617, 0.62142383],\n",
       "       [0.36961142, 0.63038858],\n",
       "       [0.79026046, 0.20973954],\n",
       "       [0.37222576, 0.62777424],\n",
       "       [0.89041033, 0.10958967],\n",
       "       [0.87382398, 0.12617602],\n",
       "       [0.50216384, 0.49783616],\n",
       "       [0.77057055, 0.22942945],\n",
       "       [0.57830019, 0.42169981],\n",
       "       [0.86991951, 0.13008049],\n",
       "       [0.87328902, 0.12671098],\n",
       "       [0.83420464, 0.16579536],\n",
       "       [0.13671147, 0.86328853],\n",
       "       [0.05924461, 0.94075539],\n",
       "       [0.77880987, 0.22119013],\n",
       "       [0.23617774, 0.76382226],\n",
       "       [0.85011817, 0.14988183],\n",
       "       [0.89931618, 0.10068382],\n",
       "       [0.83983525, 0.16016475],\n",
       "       [0.87382398, 0.12617602],\n",
       "       [0.67962781, 0.32037219],\n",
       "       [0.29009108, 0.70990892],\n",
       "       [0.86475191, 0.13524809],\n",
       "       [0.70931491, 0.29068509],\n",
       "       [0.87382398, 0.12617602],\n",
       "       [0.85011817, 0.14988183],\n",
       "       [0.83983525, 0.16016475],\n",
       "       [0.87382398, 0.12617602],\n",
       "       [0.65086981, 0.34913019],\n",
       "       [0.93269121, 0.06730879],\n",
       "       [0.32470924, 0.67529076],\n",
       "       [0.82808316, 0.17191684],\n",
       "       [0.38013653, 0.61986347],\n",
       "       [0.58130479, 0.41869521],\n",
       "       [0.22814398, 0.77185602],\n",
       "       [0.90505325, 0.09494675],\n",
       "       [0.75592385, 0.24407615],\n",
       "       [0.71723503, 0.28276497],\n",
       "       [0.86475191, 0.13524809],\n",
       "       [0.76409052, 0.23590948],\n",
       "       [0.93689323, 0.06310677],\n",
       "       [0.7477954 , 0.2522046 ],\n",
       "       [0.89898638, 0.10101362],\n",
       "       [0.2899334 , 0.7100666 ],\n",
       "       [0.5909917 , 0.4090083 ],\n",
       "       [0.06538696, 0.93461304],\n",
       "       [0.70180317, 0.29819683],\n",
       "       [0.18284994, 0.81715006],\n",
       "       [0.77841608, 0.22158392],\n",
       "       [0.54689545, 0.45310455],\n",
       "       [0.04738168, 0.95261832],\n",
       "       [0.89041033, 0.10958967],\n",
       "       [0.8760091 , 0.1239909 ],\n",
       "       [0.32309024, 0.67690976],\n",
       "       [0.81013949, 0.18986051],\n",
       "       [0.08781375, 0.91218625],\n",
       "       [0.83983525, 0.16016475],\n",
       "       [0.74111989, 0.25888011],\n",
       "       [0.78095002, 0.21904998],\n",
       "       [0.76698101, 0.23301899],\n",
       "       [0.30758468, 0.69241532],\n",
       "       [0.19492078, 0.80507922],\n",
       "       [0.75614631, 0.24385369],\n",
       "       [0.19252318, 0.80747682],\n",
       "       [0.91486056, 0.08513944],\n",
       "       [0.69231911, 0.30768089],\n",
       "       [0.86991951, 0.13008049],\n",
       "       [0.49820807, 0.50179193],\n",
       "       [0.66980077, 0.33019923],\n",
       "       [0.22139601, 0.77860399],\n",
       "       [0.24340364, 0.75659636],\n",
       "       [0.86475191, 0.13524809],\n",
       "       [0.57366596, 0.42633404],\n",
       "       [0.83983525, 0.16016475],\n",
       "       [0.78770483, 0.21229517],\n",
       "       [0.74873527, 0.25126473],\n",
       "       [0.38013653, 0.61986347],\n",
       "       [0.29426474, 0.70573526],\n",
       "       [0.46739421, 0.53260579],\n",
       "       [0.83983525, 0.16016475],\n",
       "       [0.89796438, 0.10203562],\n",
       "       [0.89076473, 0.10923527],\n",
       "       [0.87382398, 0.12617602],\n",
       "       [0.79878124, 0.20121876],\n",
       "       [0.35199906, 0.64800094],\n",
       "       [0.87816165, 0.12183835],\n",
       "       [0.29771474, 0.70228526],\n",
       "       [0.83983525, 0.16016475],\n",
       "       [0.85011817, 0.14988183],\n",
       "       [0.67060468, 0.32939532],\n",
       "       [0.51722265, 0.48277735],\n",
       "       [0.09833691, 0.90166309],\n",
       "       [0.13277815, 0.86722185],\n",
       "       [0.79797806, 0.20202194],\n",
       "       [0.69154383, 0.30845617],\n",
       "       [0.87422444, 0.12577556],\n",
       "       [0.24187218, 0.75812782],\n",
       "       [0.32470924, 0.67529076],\n",
       "       [0.39793411, 0.60206589],\n",
       "       [0.94125308, 0.05874692],\n",
       "       [0.10899785, 0.89100215],\n",
       "       [0.22545216, 0.77454784],\n",
       "       [0.88237029, 0.11762971],\n",
       "       [0.90505325, 0.09494675],\n",
       "       [0.03901563, 0.96098437],\n",
       "       [0.78095002, 0.21904998],\n",
       "       [0.20143442, 0.79856558],\n",
       "       [0.87397206, 0.12602794],\n",
       "       [0.65732408, 0.34267592],\n",
       "       [0.87382398, 0.12617602],\n",
       "       [0.29426474, 0.70573526],\n",
       "       [0.83983525, 0.16016475],\n",
       "       [0.91201392, 0.08798608]])"
      ]
     },
     "execution_count": 33,
     "metadata": {},
     "output_type": "execute_result"
    }
   ],
   "source": [
    "#we predict the probability of survival using the used features\n",
    "logreg.predict_proba(xtest)"
   ]
  },
  {
   "cell_type": "code",
   "execution_count": null,
   "id": "12fcfd95",
   "metadata": {},
   "outputs": [],
   "source": []
  }
 ],
 "metadata": {
  "kernelspec": {
   "display_name": "Python 3 (ipykernel)",
   "language": "python",
   "name": "python3"
  },
  "language_info": {
   "codemirror_mode": {
    "name": "ipython",
    "version": 3
   },
   "file_extension": ".py",
   "mimetype": "text/x-python",
   "name": "python",
   "nbconvert_exporter": "python",
   "pygments_lexer": "ipython3",
   "version": "3.9.12"
  }
 },
 "nbformat": 4,
 "nbformat_minor": 5
}
